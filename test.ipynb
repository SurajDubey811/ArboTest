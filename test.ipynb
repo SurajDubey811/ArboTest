{
 "cells": [
  {
   "cell_type": "code",
   "execution_count": 1,
   "id": "05161951",
   "metadata": {},
   "outputs": [
    {
     "ename": "AttributeError",
     "evalue": "module 'pandas' has no attribute 'concatpd'",
     "output_type": "error",
     "traceback": [
      "\u001b[1;31m---------------------------------------------------------------------------\u001b[0m",
      "\u001b[1;31mAttributeError\u001b[0m                            Traceback (most recent call last)",
      "Input \u001b[1;32mIn [1]\u001b[0m, in \u001b[0;36m<cell line: 44>\u001b[1;34m()\u001b[0m\n\u001b[0;32m     49\u001b[0m     df \u001b[38;5;241m=\u001b[39m extract_kv(\u001b[38;5;124m\"\u001b[39m\u001b[38;5;124mresources/config.json\u001b[39m\u001b[38;5;124m\"\u001b[39m, filename)\n\u001b[0;32m     50\u001b[0m     li\u001b[38;5;241m.\u001b[39mappend(pd\u001b[38;5;241m.\u001b[39mread_csv(df))\n\u001b[1;32m---> 51\u001b[0m df \u001b[38;5;241m=\u001b[39m \u001b[43mpd\u001b[49m\u001b[38;5;241;43m.\u001b[39;49m\u001b[43mconcatpd\u001b[49m\u001b[38;5;241m.\u001b[39mconcat(\u001b[38;5;28mmap\u001b[39m(pd\u001b[38;5;241m.\u001b[39mread_csv, li), ignore_index\u001b[38;5;241m=\u001b[39m\u001b[38;5;28;01mTrue\u001b[39;00m)\n\u001b[0;32m     52\u001b[0m \u001b[38;5;28mprint\u001b[39m(df)\n",
      "File \u001b[1;32m~\\AppData\\Roaming\\Python\\Python310\\site-packages\\pandas\\__init__.py:261\u001b[0m, in \u001b[0;36m__getattr__\u001b[1;34m(name)\u001b[0m\n\u001b[0;32m    257\u001b[0m     \u001b[38;5;28;01mfrom\u001b[39;00m \u001b[38;5;21;01mpandas\u001b[39;00m\u001b[38;5;21;01m.\u001b[39;00m\u001b[38;5;21;01mcore\u001b[39;00m\u001b[38;5;21;01m.\u001b[39;00m\u001b[38;5;21;01marrays\u001b[39;00m\u001b[38;5;21;01m.\u001b[39;00m\u001b[38;5;21;01msparse\u001b[39;00m \u001b[38;5;28;01mimport\u001b[39;00m SparseArray \u001b[38;5;28;01mas\u001b[39;00m _SparseArray\n\u001b[0;32m    259\u001b[0m     \u001b[38;5;28;01mreturn\u001b[39;00m _SparseArray\n\u001b[1;32m--> 261\u001b[0m \u001b[38;5;28;01mraise\u001b[39;00m \u001b[38;5;167;01mAttributeError\u001b[39;00m(\u001b[38;5;124mf\u001b[39m\u001b[38;5;124m\"\u001b[39m\u001b[38;5;124mmodule \u001b[39m\u001b[38;5;124m'\u001b[39m\u001b[38;5;124mpandas\u001b[39m\u001b[38;5;124m'\u001b[39m\u001b[38;5;124m has no attribute \u001b[39m\u001b[38;5;124m'\u001b[39m\u001b[38;5;132;01m{\u001b[39;00mname\u001b[38;5;132;01m}\u001b[39;00m\u001b[38;5;124m'\u001b[39m\u001b[38;5;124m\"\u001b[39m)\n",
      "\u001b[1;31mAttributeError\u001b[0m: module 'pandas' has no attribute 'concatpd'"
     ]
    }
   ],
   "source": [
    "import glob\n",
    "import json\n",
    "import os\n",
    "\n",
    "import pandas as pd\n",
    "from azure.core.credentials import AzureKeyCredential\n",
    "from azure.ai.formrecognizer import DocumentAnalysisClient\n",
    "\n",
    "from utils.convert_csv import convert_csv\n",
    "\n",
    "\n",
    "def extract_kv(config_file):\n",
    "    with open(config_file) as f:\n",
    "        config = json.load(f)\n",
    "    endpoint = config[\"endpoint\"]\n",
    "    key = config[\"key\"]\n",
    "\n",
    "    model_id = config[\"model_id\"]\n",
    "    testData = open(\"invoice/Kensington-6.pdf\", \"rb\")\n",
    "\n",
    "    document_analysis_client = DocumentAnalysisClient(\n",
    "        endpoint=endpoint, credential=AzureKeyCredential(key)\n",
    "    )\n",
    "\n",
    "    poller = document_analysis_client.begin_analyze_document(model_id, testData)\n",
    "    result = poller.result()\n",
    "\n",
    "    output = dict()\n",
    "    for idx, document in enumerate(result.documents):\n",
    "        # print(\"--------Analyzing document #{}--------\".format(idx + 1))\n",
    "        # print(\"Document has type {}\".format(document.doc_type))\n",
    "        # print(\"Document has confidence {}\".format(document.confidence))\n",
    "        # print(\"Document was analyzed by model with ID {}\".format(result.model_id))\n",
    "        for name, field in document.fields.items():\n",
    "            field_value = field.value if field.value else field.content\n",
    "            output[name] = field_value\n",
    "        output[\"Document confidence\"] = document.confidence\n",
    "\n",
    "    del (output[\"BankDetails\"])\n",
    "    out_csv = convert_csv(output)\n",
    "    return out_csv\n",
    "\n",
    "\n",
    "if __name__ == \"__main__\":\n",
    "    path = r'invoice'  # use your path\n",
    "    all_files = glob.glob(os.path.join(path, \"/*.pdf\"))\n",
    "    li = []\n",
    "    for filename in all_files:\n",
    "        df = extract_kv(\"resources/config.json\", filename)\n",
    "        li.append(pd.read_csv(df))\n",
    "    df = pd.concatpd.concat(map(pd.read_csv, li), ignore_index=True)\n",
    "    print(df)"
   ]
  },
  {
   "cell_type": "code",
   "execution_count": 5,
   "id": "670f22dd",
   "metadata": {},
   "outputs": [
    {
     "ename": "TypeError",
     "evalue": "expected str, bytes or os.PathLike object, not tuple",
     "output_type": "error",
     "traceback": [
      "\u001b[1;31m---------------------------------------------------------------------------\u001b[0m",
      "\u001b[1;31mTypeError\u001b[0m                                 Traceback (most recent call last)",
      "Input \u001b[1;32mIn [5]\u001b[0m, in \u001b[0;36m<cell line: 2>\u001b[1;34m()\u001b[0m\n\u001b[0;32m      1\u001b[0m path \u001b[38;5;241m=\u001b[39m \u001b[38;5;124mr\u001b[39m\u001b[38;5;124m'\u001b[39m\u001b[38;5;124mC:\u001b[39m\u001b[38;5;124m\\\u001b[39m\u001b[38;5;124mUsers\u001b[39m\u001b[38;5;124m\\\u001b[39m\u001b[38;5;124m91704\u001b[39m\u001b[38;5;124m\\\u001b[39m\u001b[38;5;124mPycharmProjects\u001b[39m\u001b[38;5;124m\\\u001b[39m\u001b[38;5;124mArboAzure\u001b[39m\u001b[38;5;124m\\\u001b[39m\u001b[38;5;124minvoice\u001b[39m\u001b[38;5;124m'\u001b[39m  \u001b[38;5;66;03m# use your path\u001b[39;00m\n\u001b[1;32m----> 2\u001b[0m all_files \u001b[38;5;241m=\u001b[39m \u001b[43mglob\u001b[49m\u001b[38;5;241;43m.\u001b[39;49m\u001b[43mglob\u001b[49m\u001b[43m(\u001b[49m\u001b[43m(\u001b[49m\u001b[43mpath\u001b[49m\u001b[43m,\u001b[49m\u001b[43m \u001b[49m\u001b[38;5;124;43m\"\u001b[39;49m\u001b[38;5;124;43m/*.pdf\u001b[39;49m\u001b[38;5;124;43m\"\u001b[39;49m\u001b[43m)\u001b[49m\u001b[43m)\u001b[49m\n",
      "File \u001b[1;32mC:\\Program Files\\Python310\\lib\\glob.py:24\u001b[0m, in \u001b[0;36mglob\u001b[1;34m(pathname, root_dir, dir_fd, recursive)\u001b[0m\n\u001b[0;32m     13\u001b[0m \u001b[38;5;28;01mdef\u001b[39;00m \u001b[38;5;21mglob\u001b[39m(pathname, \u001b[38;5;241m*\u001b[39m, root_dir\u001b[38;5;241m=\u001b[39m\u001b[38;5;28;01mNone\u001b[39;00m, dir_fd\u001b[38;5;241m=\u001b[39m\u001b[38;5;28;01mNone\u001b[39;00m, recursive\u001b[38;5;241m=\u001b[39m\u001b[38;5;28;01mFalse\u001b[39;00m):\n\u001b[0;32m     14\u001b[0m     \u001b[38;5;124;03m\"\"\"Return a list of paths matching a pathname pattern.\u001b[39;00m\n\u001b[0;32m     15\u001b[0m \n\u001b[0;32m     16\u001b[0m \u001b[38;5;124;03m    The pattern may contain simple shell-style wildcards a la\u001b[39;00m\n\u001b[1;32m   (...)\u001b[0m\n\u001b[0;32m     22\u001b[0m \u001b[38;5;124;03m    zero or more directories and subdirectories.\u001b[39;00m\n\u001b[0;32m     23\u001b[0m \u001b[38;5;124;03m    \"\"\"\u001b[39;00m\n\u001b[1;32m---> 24\u001b[0m     \u001b[38;5;28;01mreturn\u001b[39;00m \u001b[38;5;28;43mlist\u001b[39;49m\u001b[43m(\u001b[49m\u001b[43miglob\u001b[49m\u001b[43m(\u001b[49m\u001b[43mpathname\u001b[49m\u001b[43m,\u001b[49m\u001b[43m \u001b[49m\u001b[43mroot_dir\u001b[49m\u001b[38;5;241;43m=\u001b[39;49m\u001b[43mroot_dir\u001b[49m\u001b[43m,\u001b[49m\u001b[43m \u001b[49m\u001b[43mdir_fd\u001b[49m\u001b[38;5;241;43m=\u001b[39;49m\u001b[43mdir_fd\u001b[49m\u001b[43m,\u001b[49m\u001b[43m \u001b[49m\u001b[43mrecursive\u001b[49m\u001b[38;5;241;43m=\u001b[39;49m\u001b[43mrecursive\u001b[49m\u001b[43m)\u001b[49m\u001b[43m)\u001b[49m\n",
      "File \u001b[1;32mC:\\Program Files\\Python310\\lib\\glob.py:54\u001b[0m, in \u001b[0;36m_iglob\u001b[1;34m(pathname, root_dir, dir_fd, recursive, dironly)\u001b[0m\n\u001b[0;32m     53\u001b[0m \u001b[38;5;28;01mdef\u001b[39;00m \u001b[38;5;21m_iglob\u001b[39m(pathname, root_dir, dir_fd, recursive, dironly):\n\u001b[1;32m---> 54\u001b[0m     dirname, basename \u001b[38;5;241m=\u001b[39m \u001b[43mos\u001b[49m\u001b[38;5;241;43m.\u001b[39;49m\u001b[43mpath\u001b[49m\u001b[38;5;241;43m.\u001b[39;49m\u001b[43msplit\u001b[49m\u001b[43m(\u001b[49m\u001b[43mpathname\u001b[49m\u001b[43m)\u001b[49m\n\u001b[0;32m     55\u001b[0m     \u001b[38;5;28;01mif\u001b[39;00m \u001b[38;5;129;01mnot\u001b[39;00m has_magic(pathname):\n\u001b[0;32m     56\u001b[0m         \u001b[38;5;28;01massert\u001b[39;00m \u001b[38;5;129;01mnot\u001b[39;00m dironly\n",
      "File \u001b[1;32mC:\\Program Files\\Python310\\lib\\ntpath.py:185\u001b[0m, in \u001b[0;36msplit\u001b[1;34m(p)\u001b[0m\n\u001b[0;32m    180\u001b[0m \u001b[38;5;28;01mdef\u001b[39;00m \u001b[38;5;21msplit\u001b[39m(p):\n\u001b[0;32m    181\u001b[0m     \u001b[38;5;124;03m\"\"\"Split a pathname.\u001b[39;00m\n\u001b[0;32m    182\u001b[0m \n\u001b[0;32m    183\u001b[0m \u001b[38;5;124;03m    Return tuple (head, tail) where tail is everything after the final slash.\u001b[39;00m\n\u001b[0;32m    184\u001b[0m \u001b[38;5;124;03m    Either part may be empty.\"\"\"\u001b[39;00m\n\u001b[1;32m--> 185\u001b[0m     p \u001b[38;5;241m=\u001b[39m \u001b[43mos\u001b[49m\u001b[38;5;241;43m.\u001b[39;49m\u001b[43mfspath\u001b[49m\u001b[43m(\u001b[49m\u001b[43mp\u001b[49m\u001b[43m)\u001b[49m\n\u001b[0;32m    186\u001b[0m     seps \u001b[38;5;241m=\u001b[39m _get_bothseps(p)\n\u001b[0;32m    187\u001b[0m     d, p \u001b[38;5;241m=\u001b[39m splitdrive(p)\n",
      "\u001b[1;31mTypeError\u001b[0m: expected str, bytes or os.PathLike object, not tuple"
     ]
    }
   ],
   "source": [
    "path = r'C:\\Users\\91704\\PycharmProjects\\ArboAzure\\invoice'  # use your path\n",
    "all_files = glob.glob((path, \"/*.pdf\"))"
   ]
  },
  {
   "cell_type": "code",
   "execution_count": null,
   "id": "61a4bc8c",
   "metadata": {},
   "outputs": [],
   "source": [
    "all_files"
   ]
  },
  {
   "cell_type": "code",
   "execution_count": 2,
   "id": "c0d8d212",
   "metadata": {},
   "outputs": [
    {
     "name": "stdout",
     "output_type": "stream",
     "text": [
      "Done!!\n"
     ]
    }
   ],
   "source": [
    "import csv \n",
    " \n",
    " \n",
    "Student_dict = [\n",
    "{'Name': 'Jack','Mark': 100, 'Subject': 'Math'},\n",
    "{ 'Name': 'Rack', 'Mark': 100,'Subject': 'Math'},\n",
    "{ 'Name': 'Max', 'Mark': 100,'Subject': 'Music'},\n",
    "{ 'Name': 'David', 'Mark':100,'Subject': 'Math'},\n",
    "{ 'Name': 'Tawn', 'Mark': 100,'Subject': 'Physic'},\n",
    "]\n",
    " \n",
    " \n",
    " \n",
    "keys = Student_dict[0].keys()\n",
    " \n",
    "with open(\"students.csv\", \"w\") as file:\n",
    "    csvwriter = csv.DictWriter(file, keys)\n",
    "    csvwriter.writeheader()\n",
    "    csvwriter.writerows(Student_dict)\n",
    "print(\"Done!!\")"
   ]
  },
  {
   "cell_type": "code",
   "execution_count": 6,
   "id": "683516e2",
   "metadata": {},
   "outputs": [],
   "source": [
    "import pandas\n",
    "\n",
    "dataframe = pandas.read_csv(r\"output\\csv_output.csv\")\n",
    "list_of_dictionaries = dataframe.to_dict('records')\n",
    "dataframe.to_csv(r\"output\\pandas_csv_output.csv\", index = False)"
   ]
  },
  {
   "cell_type": "code",
   "execution_count": 7,
   "id": "8f437a97",
   "metadata": {},
   "outputs": [
    {
     "data": {
      "text/plain": [
       "[{'Candidate Name': 'Asish Ratha',\n",
       "  'Occupation': 'Subject matter Expert',\n",
       "  'Work Location': 'Chennai, Tamil Nadu',\n",
       "  'Work Experience': 'March 2012 to Present',\n",
       "  'Education': 'Berhampur university,',\n",
       "  'Company Name': nan,\n",
       "  'Document confidence': 0.147},\n",
       " {'Candidate Name': 'Avin Sharma',\n",
       "  'Occupation': 'Senior Associate Consultant',\n",
       "  'Work Location': 'Hyderabad, Telangana',\n",
       "  'Work Experience': 'July 2015 to Present',\n",
       "  'Education': 'Great Lakes Institute of Management Chennai, Tamil Nadu',\n",
       "  'Company Name': 'Infosys Limited',\n",
       "  'Document confidence': 0.573},\n",
       " {'Candidate Name': 'Ayesha B',\n",
       "  'Occupation': 'Team member',\n",
       "  'Work Location': 'Bangalore, Karnataka',\n",
       "  'Work Experience': 'August 2012 to Present',\n",
       "  'Education': 'B.E. in CSE',\n",
       "  'Company Name': 'Oracle',\n",
       "  'Document confidence': 0.42},\n",
       " {'Candidate Name': 'Ayushi Srivastava',\n",
       "  'Occupation': 'Senior Analyst',\n",
       "  'Work Location': nan,\n",
       "  'Work Experience': '2016 to Present',\n",
       "  'Education': 'B.Tech',\n",
       "  'Company Name': nan,\n",
       "  'Document confidence': 0.117},\n",
       " {'Candidate Name': 'Bhawana Daf',\n",
       "  'Occupation': 'Preschool Teacher',\n",
       "  'Work Location': 'Pune, Maharashtra',\n",
       "  'Work Experience': '2015 to 2018',\n",
       "  'Education': 'B. Sc. in Biology',\n",
       "  'Company Name': nan,\n",
       "  'Document confidence': 0.333}]"
      ]
     },
     "execution_count": 7,
     "metadata": {},
     "output_type": "execute_result"
    }
   ],
   "source": [
    "list_of_dictionaries"
   ]
  },
  {
   "cell_type": "code",
   "execution_count": null,
   "id": "42bea3b4",
   "metadata": {},
   "outputs": [],
   "source": []
  }
 ],
 "metadata": {
  "kernelspec": {
   "display_name": "Python 3 (ipykernel)",
   "language": "python",
   "name": "python3"
  },
  "language_info": {
   "codemirror_mode": {
    "name": "ipython",
    "version": 3
   },
   "file_extension": ".py",
   "mimetype": "text/x-python",
   "name": "python",
   "nbconvert_exporter": "python",
   "pygments_lexer": "ipython3",
   "version": "3.10.5"
  }
 },
 "nbformat": 4,
 "nbformat_minor": 5
}
